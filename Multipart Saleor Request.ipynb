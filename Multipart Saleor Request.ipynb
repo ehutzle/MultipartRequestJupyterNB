{
 "cells": [
  {
   "cell_type": "markdown",
   "execution_count": null,
   "metadata": {},
   "outputs": [],
   "source": [
    "**Defined Authorization Information & API_PATH**"
   ]
  },
  {
   "cell_type": "code",
   "execution_count": null,
   "metadata": {},
   "outputs": [],
   "source": [
    "headers = {\n",
    "    'Authorization': \"JWT Token Info\",\n",
    "    'content-type': MULTIPART\n",
    "}\n",
    "\n",
    "API_PATH = 'http://127.0.0.1:8000/graphql/'"
   ]
  },
  {
   "cell_type": "markdown",
   "metadata": {},
   "source": [
    "**Created Query Text for DigitalContentCreate**"
   ]
  },
  {
   "cell_type": "code",
   "execution_count": null,
   "metadata": {},
   "outputs": [],
   "source": [
    "query = \"\"\"\n",
    "mutation DigitalContentUploadInput($contentFile: DigitalContentUploadInput!, $variantID: ID!) {\n",
    "        digitalContentCreate(input: $contentFile, variantId: $variantID) {\n",
    "        content {\n",
    "              id\n",
    "            }\n",
    "            productErrors {\n",
    "                field\n",
    "                message\n",
    "            }\n",
    "        }\n",
    "}\n",
    "\"\"\""
   ]
  },
  {
   "cell_type": "markdown",
   "metadata": {},
   "source": [
    "**Defined Test Image Generator (From Product Tests)**"
   ]
  },
  {
   "cell_type": "code",
   "execution_count": null,
   "metadata": {},
   "outputs": [],
   "source": [
    "def create_image(image_name=\"product2\"):\n",
    "    img_data = BytesIO()\n",
    "    image = Image.new(\"RGB\", size=(1, 1), color=(255, 0, 0, 0))\n",
    "    image.save(img_data, format=\"JPEG\")\n",
    "    image = SimpleUploadedFile(image_name + \".jpg\", img_data.getvalue(), \"image/png\")\n",
    "    return image, image_name"
   ]
  },
  {
   "cell_type": "markdown",
   "metadata": {},
   "source": [
    "**Defined Multi-Part Formatter (From Product Tests)**"
   ]
  },
  {
   "cell_type": "code",
   "execution_count": null,
   "metadata": {},
   "outputs": [],
   "source": [
    "def get_multipart_request_body(query, variables, file, file_name):\n",
    "    return {\n",
    "        \"operations\": json.dumps(\n",
    "            {\"query\": query, \"variables\": variables}, cls=DjangoJSONEncoder\n",
    "        ),\n",
    "        \"map\": json.dumps({file_name: [\"variables.file\"]}, cls=DjangoJSONEncoder),\n",
    "        file_name: file,\n",
    "    }\n"
   ]
  },
  {
   "cell_type": "markdown",
   "metadata": {},
   "source": [
    "**Defined Method To Populate Multi-Part Body**"
   ]
  },
  {
   "cell_type": "code",
   "execution_count": null,
   "metadata": {},
   "outputs": [],
   "source": [
    "def test_dig_create(product_id):\n",
    "    image_file, image_name = create_image()\n",
    "    variables = {\n",
    "        \"contentFile\": image_name,\n",
    "        \"variantID\": product_id,\n",
    "    }\n",
    "    multipart = get_multipart_request_body(query, variables, image_file, image_name)\n",
    "    return multipart"
   ]
  },
  {
   "cell_type": "markdown",
   "metadata": {},
   "source": [
    "**Defined Methods to Post**"
   ]
  },
  {
   "cell_type": "code",
   "execution_count": null,
   "metadata": {},
   "outputs": [],
   "source": [
    "def post_multipart(data):\n",
    "    response = requests.post(API_PATH, data)\n",
    "    return response"
   ]
  },
  {
   "cell_type": "markdown",
   "metadata": {},
   "source": [
    "**Defined Method To Create Digital Content**"
   ]
  },
  {
   "cell_type": "code",
   "execution_count": null,
   "metadata": {},
   "outputs": [],
   "source": [
    "def create_dig_content(product_id):\n",
    "    multipart = test_dig_create(product_id)\n",
    "    gql_response = post_multipart(multipart)\n",
    "    return gql_response"
   ]
  },
  {
   "cell_type": "markdown",
   "metadata": {},
   "source": [
    "**Defined Product ID & Called Method**"
   ]
  },
  {
   "cell_type": "code",
   "execution_count": null,
   "metadata": {},
   "outputs": [],
   "source": [
    "product_id = 'myproductvariantid'\n",
    "response = create_dig_content(product_id)"
   ]
  },
  {
   "cell_type": "markdown",
   "metadata": {},
   "source": [
    "**Error Returned**"
   ]
  },
  {
   "cell_type": "markdown",
   "metadata": {},
   "source": [
    "> ERROR saleor.graphql.errors.unhandled A query failed unexpectedly\n",
    "> **[PID:22790:Thread-9]** ValueError: Must provide a query string.\n"
   ]
  }
 ],
 "metadata": {
  "kernelspec": {
   "display_name": "Python 3",
   "language": "python",
   "name": "python3"
  },
  "language_info": {
   "codemirror_mode": {
    "name": "ipython",
    "version": 3
   },
   "file_extension": ".py",
   "mimetype": "text/x-python",
   "name": "python",
   "nbconvert_exporter": "python",
   "pygments_lexer": "ipython3",
   "version": "3.7.6"
  }
 },
 "nbformat": 4,
 "nbformat_minor": 4
}
